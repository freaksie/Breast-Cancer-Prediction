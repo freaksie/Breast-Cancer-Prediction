{
 "cells": [
  {
   "cell_type": "code",
   "execution_count": 1,
   "metadata": {},
   "outputs": [],
   "source": [
    "import numpy as np\n",
    "import pandas as pd\n",
    "from sklearn.model_selection import train_test_split"
   ]
  },
  {
   "cell_type": "code",
   "execution_count": 2,
   "metadata": {},
   "outputs": [],
   "source": [
    "# Retrive the dataset\n",
    "ds=pd.read_csv('Breast_cancer_data.csv')"
   ]
  },
  {
   "cell_type": "code",
   "execution_count": 3,
   "metadata": {},
   "outputs": [
    {
     "data": {
      "text/html": [
       "<div>\n",
       "<style scoped>\n",
       "    .dataframe tbody tr th:only-of-type {\n",
       "        vertical-align: middle;\n",
       "    }\n",
       "\n",
       "    .dataframe tbody tr th {\n",
       "        vertical-align: top;\n",
       "    }\n",
       "\n",
       "    .dataframe thead th {\n",
       "        text-align: right;\n",
       "    }\n",
       "</style>\n",
       "<table border=\"1\" class=\"dataframe\">\n",
       "  <thead>\n",
       "    <tr style=\"text-align: right;\">\n",
       "      <th></th>\n",
       "      <th>mean_radius</th>\n",
       "      <th>mean_texture</th>\n",
       "      <th>mean_perimeter</th>\n",
       "      <th>mean_area</th>\n",
       "    </tr>\n",
       "  </thead>\n",
       "  <tbody>\n",
       "    <tr>\n",
       "      <th>0</th>\n",
       "      <td>17.99</td>\n",
       "      <td>10.38</td>\n",
       "      <td>122.80</td>\n",
       "      <td>1001.0</td>\n",
       "    </tr>\n",
       "    <tr>\n",
       "      <th>1</th>\n",
       "      <td>20.57</td>\n",
       "      <td>17.77</td>\n",
       "      <td>132.90</td>\n",
       "      <td>1326.0</td>\n",
       "    </tr>\n",
       "    <tr>\n",
       "      <th>2</th>\n",
       "      <td>19.69</td>\n",
       "      <td>21.25</td>\n",
       "      <td>130.00</td>\n",
       "      <td>1203.0</td>\n",
       "    </tr>\n",
       "    <tr>\n",
       "      <th>3</th>\n",
       "      <td>11.42</td>\n",
       "      <td>20.38</td>\n",
       "      <td>77.58</td>\n",
       "      <td>386.1</td>\n",
       "    </tr>\n",
       "    <tr>\n",
       "      <th>4</th>\n",
       "      <td>20.29</td>\n",
       "      <td>14.34</td>\n",
       "      <td>135.10</td>\n",
       "      <td>1297.0</td>\n",
       "    </tr>\n",
       "  </tbody>\n",
       "</table>\n",
       "</div>"
      ],
      "text/plain": [
       "   mean_radius  mean_texture  mean_perimeter  mean_area\n",
       "0        17.99         10.38          122.80     1001.0\n",
       "1        20.57         17.77          132.90     1326.0\n",
       "2        19.69         21.25          130.00     1203.0\n",
       "3        11.42         20.38           77.58      386.1\n",
       "4        20.29         14.34          135.10     1297.0"
      ]
     },
     "execution_count": 3,
     "metadata": {},
     "output_type": "execute_result"
    }
   ],
   "source": [
    "# Seperate X as feature vector and Y as output\n",
    "X=ds.iloc[:,0:4]\n",
    "Y=ds.iloc[:,-1]\n",
    "X.head()"
   ]
  },
  {
   "cell_type": "code",
   "execution_count": 4,
   "metadata": {},
   "outputs": [
    {
     "data": {
      "text/html": [
       "<div>\n",
       "<style scoped>\n",
       "    .dataframe tbody tr th:only-of-type {\n",
       "        vertical-align: middle;\n",
       "    }\n",
       "\n",
       "    .dataframe tbody tr th {\n",
       "        vertical-align: top;\n",
       "    }\n",
       "\n",
       "    .dataframe thead th {\n",
       "        text-align: right;\n",
       "    }\n",
       "</style>\n",
       "<table border=\"1\" class=\"dataframe\">\n",
       "  <thead>\n",
       "    <tr style=\"text-align: right;\">\n",
       "      <th></th>\n",
       "      <th>0</th>\n",
       "      <th>1</th>\n",
       "      <th>2</th>\n",
       "      <th>3</th>\n",
       "    </tr>\n",
       "  </thead>\n",
       "  <tbody>\n",
       "    <tr>\n",
       "      <th>0</th>\n",
       "      <td>0.639986</td>\n",
       "      <td>0.264257</td>\n",
       "      <td>0.651459</td>\n",
       "      <td>0.400240</td>\n",
       "    </tr>\n",
       "    <tr>\n",
       "      <th>1</th>\n",
       "      <td>0.731768</td>\n",
       "      <td>0.452393</td>\n",
       "      <td>0.705040</td>\n",
       "      <td>0.530188</td>\n",
       "    </tr>\n",
       "    <tr>\n",
       "      <th>2</th>\n",
       "      <td>0.700462</td>\n",
       "      <td>0.540988</td>\n",
       "      <td>0.689655</td>\n",
       "      <td>0.481008</td>\n",
       "    </tr>\n",
       "    <tr>\n",
       "      <th>3</th>\n",
       "      <td>0.406261</td>\n",
       "      <td>0.518839</td>\n",
       "      <td>0.411565</td>\n",
       "      <td>0.154378</td>\n",
       "    </tr>\n",
       "    <tr>\n",
       "      <th>4</th>\n",
       "      <td>0.721807</td>\n",
       "      <td>0.365071</td>\n",
       "      <td>0.716711</td>\n",
       "      <td>0.518593</td>\n",
       "    </tr>\n",
       "  </tbody>\n",
       "</table>\n",
       "</div>"
      ],
      "text/plain": [
       "          0         1         2         3\n",
       "0  0.639986  0.264257  0.651459  0.400240\n",
       "1  0.731768  0.452393  0.705040  0.530188\n",
       "2  0.700462  0.540988  0.689655  0.481008\n",
       "3  0.406261  0.518839  0.411565  0.154378\n",
       "4  0.721807  0.365071  0.716711  0.518593"
      ]
     },
     "execution_count": 4,
     "metadata": {},
     "output_type": "execute_result"
    }
   ],
   "source": [
    "# Feature scaling\n",
    "X=X.to_numpy()\n",
    "ma=np.amax(X,axis=0)\n",
    "X=np.divide(X,ma)\n",
    "X=pd.DataFrame(X)\n",
    "X.head()"
   ]
  },
  {
   "cell_type": "code",
   "execution_count": 12,
   "metadata": {},
   "outputs": [],
   "source": [
    "# Distribute data among training set and test set\n",
    "X_train, X_test, Y_train, Y_test = train_test_split (X, Y, test_size=0.5)\n",
    "# Convert sets from datafram to numpy vectors\n",
    "X_train=X.to_numpy().T\n",
    "X_test=X_test.to_numpy().T\n",
    "Y_train=Y.to_numpy()\n",
    "Y_test=Y_test.to_numpy()\n",
    " #convert 1D vector into 2D vector\n",
    "Y_test=Y_test.reshape((1,X_test.shape[1]))\n",
    "Y_train=Y_train.reshape((1,X_train.shape[1]))"
   ]
  },
  {
   "cell_type": "code",
   "execution_count": 25,
   "metadata": {},
   "outputs": [],
   "source": [
    "m=X_train.shape[1] # Nos of expamle\n",
    "features=X_train.shape[0] #Features\n",
    "iteration=500000\n",
    "learning_rate=0.01"
   ]
  },
  {
   "cell_type": "code",
   "execution_count": 26,
   "metadata": {},
   "outputs": [],
   "source": [
    "#initialize parameter\n",
    "W = np.random.rand(features, 1)\n",
    "b = 0\n"
   ]
  },
  {
   "cell_type": "code",
   "execution_count": 27,
   "metadata": {},
   "outputs": [
    {
     "name": "stdout",
     "output_type": "stream",
     "text": [
      "0.7208922712957443\n",
      "0.2732849768793279\n",
      "0.25572707115168813\n",
      "0.25054068944548447\n",
      "0.248402114792747\n"
     ]
    }
   ],
   "source": [
    "#Training\n",
    "for i in range(iteration):\n",
    "    #Forward Propogation\n",
    "    Z=np.dot(W.T,X_train) + b\n",
    "    A=1/(1+np.exp(-Z))\n",
    "    #cost Function\n",
    "    J= np.sum((Y_train*np.log(A)) + ((1 - Y_train)*np.log(1 - A)))/(-m) \n",
    "    #Backpropogation\n",
    "    dW=np.dot(X_train,(A-Y_train).T)/m\n",
    "    db=np.sum(A-Y_train)/m\n",
    "    #Update the parameter\n",
    "    W=W-(learning_rate*dW)\n",
    "    b=b-(learning_rate*db)\n",
    "    # Degrading costs\n",
    "    if i%100000==0:\n",
    "        print(J)\n",
    "    \n"
   ]
  },
  {
   "cell_type": "code",
   "execution_count": 28,
   "metadata": {},
   "outputs": [
    {
     "name": "stdout",
     "output_type": "stream",
     "text": [
      "train accuracy: 89.45518453427064%\n"
     ]
    }
   ],
   "source": [
    "Z=np.dot(W.T,X_train) + b\n",
    "pred=np.zeros((1,m))\n",
    "A=1/(1+np.exp(-Z))\n",
    "for i in range(X_train.shape[1]):\n",
    "    if(A[0][i]>=0.5):\n",
    "        pred[0][i]=1\n",
    "    else:\n",
    "        pred[0][i]=0\n",
    "print(\"train accuracy: {}%\".format(100 - np.mean(np.abs(pred - Y_train)) * 100))"
   ]
  },
  {
   "cell_type": "code",
   "execution_count": 29,
   "metadata": {},
   "outputs": [],
   "source": [
    "#Testing\n",
    "Z=np.dot(W.T,X_test)+b\n",
    "pred=np.zeros((1,X_test.shape[1]))\n",
    "A=1/(1+np.exp(-Z))\n",
    "for i in range(X_test.shape[1]):\n",
    "    if(A[0][i]>0.5):\n",
    "        pred[0][i]=1\n",
    "    else:\n",
    "        pred[0][i]=0"
   ]
  },
  {
   "cell_type": "code",
   "execution_count": 30,
   "metadata": {},
   "outputs": [
    {
     "name": "stdout",
     "output_type": "stream",
     "text": [
      "test accuracy: 89.12280701754386 %\n"
     ]
    }
   ],
   "source": [
    "#SucessRate\n",
    "print(\"test accuracy: {} %\".format(100 - np.mean(np.abs(pred - Y_test)) * 100))"
   ]
  },
  {
   "cell_type": "code",
   "execution_count": null,
   "metadata": {},
   "outputs": [],
   "source": []
  }
 ],
 "metadata": {
  "kernelspec": {
   "display_name": "Python 3",
   "language": "python",
   "name": "python3"
  },
  "language_info": {
   "codemirror_mode": {
    "name": "ipython",
    "version": 3
   },
   "file_extension": ".py",
   "mimetype": "text/x-python",
   "name": "python",
   "nbconvert_exporter": "python",
   "pygments_lexer": "ipython3",
   "version": "3.6.5"
  }
 },
 "nbformat": 4,
 "nbformat_minor": 4
}
